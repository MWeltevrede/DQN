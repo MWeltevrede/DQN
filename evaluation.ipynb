{
 "cells": [
  {
   "cell_type": "code",
   "execution_count": 1,
   "metadata": {},
   "outputs": [],
   "source": [
    "from model import DDQN\n",
    "from atari_wrappers import PongWrapper\n",
    "\n",
    "import torch\n",
    "import numpy as np"
   ]
  },
  {
   "cell_type": "code",
   "execution_count": 2,
   "metadata": {},
   "outputs": [
    {
     "data": {
      "text/plain": [
       "<All keys matched successfully>"
      ]
     },
     "execution_count": 2,
     "metadata": {},
     "output_type": "execute_result"
    }
   ],
   "source": [
    "image_size = 42\n",
    "stack_size = 4      # number of consecutive frames stacked\n",
    "\n",
    "device = torch.device('cpu')\n",
    "\n",
    "env = PongWrapper({'env_name': \"PongDeterministic-v4\",'image_size':image_size, 'stack_size':stack_size})\n",
    "\n",
    "dqn = DDQN((stack_size, image_size, image_size), env.action_space.n, np.array([[32,4,2,0], [64,4,2,0], [64,3,1,0]]), [512]).to(device)\n",
    "\n",
    "version = \"500k\"\n",
    "modelname = \"models/ddqn/frame\" + version + \".pt\"\n",
    "\n",
    "sd = torch.load(modelname)\n",
    "dqn.online.load_state_dict(sd)"
   ]
  },
  {
   "cell_type": "code",
   "execution_count": 3,
   "metadata": {},
   "outputs": [
    {
     "name": "stdout",
     "output_type": "stream",
     "text": [
      "Return: 21.0\n"
     ]
    },
    {
     "data": {
      "image/png": "[encoded data removed]",
      "text/plain": [
       "<Figure size 432x288 with 1 Axes>"
      ]
     },
     "metadata": {
      "needs_background": "light"
     },
     "output_type": "display_data"
    }
   ],
   "source": [
    "from IPython import display\n",
    "import matplotlib\n",
    "import matplotlib.pyplot as plt\n",
    "from utils import *\n",
    "%matplotlib inline\n",
    "import imageio\n",
    "\n",
    "done = False\n",
    "state = env.reset()\n",
    "\n",
    "img = plt.imshow(env.render(mode='rgb_array')) # only call this once\n",
    "r = 0\n",
    "dqn.eval()\n",
    "while not done:\n",
    "    img.set_data(env.render(mode='rgb_array')) # just update the data\n",
    "    display.display(plt.gcf())\n",
    "    display.clear_output(wait=True)\n",
    "    \n",
    "    with torch.no_grad():\n",
    "        q_values = dqn(torch.as_tensor(state, dtype=torch.float32, device=device).unsqueeze(0), version=\"online\")\n",
    "        action = q_values.argmax().item()\n",
    "    \n",
    "    state, reward, done, _ = env.step(action)\n",
    "    r += reward\n",
    "        \n",
    "print(f\"Return: {r}\")"
   ]
  }
 ],
 "metadata": {
  "kernelspec": {
   "display_name": "Python 3",
   "language": "python",
   "name": "python3"
  },
  "language_info": {
   "codemirror_mode": {
    "name": "ipython",
    "version": 3
   },
   "file_extension": ".py",
   "mimetype": "text/x-python",
   "name": "python",
   "nbconvert_exporter": "python",
   "pygments_lexer": "ipython3",
   "version": "3.7.2"
  }
 },
 "nbformat": 4,
 "nbformat_minor": 4
}
